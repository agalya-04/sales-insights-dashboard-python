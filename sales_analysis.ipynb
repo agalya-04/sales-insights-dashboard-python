{
 "cells": [
  {
   "cell_type": "code",
   "execution_count": null,
   "id": "import-libraries",
   "metadata": {},
   "outputs": [],
   "source": [
    "import pandas as pd\n",
    "import matplotlib.pyplot as plt\n",
    "import seaborn as sns"
   ]
  },
  {
   "cell_type": "code",
   "execution_count": null,
   "id": "load-data",
   "metadata": {},
   "outputs": [],
   "source": [
    "df = pd.read_csv('sales_data.csv')\n",
    "print(df.head())"
   ]
  },
  {
   "cell_type": "code",
   "execution_count": null,
   "id": "clean-data",
   "metadata": {},
   "outputs": [],
   "source": [
    "df.dropna(inplace=True)"
   ]
  },
  {
   "cell_type": "code",
   "execution_count": null,
   "id": "category-sales",
   "metadata": {},
   "outputs": [],
   "source": [
    "category_sales = df.groupby('Category')['Total'].sum().sort_values(ascending=False)\n",
    "category_sales.plot(kind='bar', title='Sales by Category', colormap='viridis')\n",
    "plt.ylabel('Total Sales')\n",
    "plt.tight_layout()\n",
    "plt.show()"
   ]
  },
  {
   "cell_type": "code",
   "execution_count": null,
   "id": "monthly-trend",
   "metadata": {},
   "outputs": [],
   "source": [
    "df['Date'] = pd.to_datetime(df['Date'])\n",
    "df['Month'] = df['Date'].dt.month\n",
    "monthly_sales = df.groupby('Month')['Total'].sum()\n",
    "monthly_sales.plot(marker='o', title='Monthly Sales Trend')\n",
    "plt.xticks(range(1,13))\n",
    "plt.ylabel('Total Sales')\n",
    "plt.tight_layout()\n",
    "plt.show()"
   ]
  },
  {
   "cell_type": "code",
   "execution_count": null,
   "id": "top-customers",
   "metadata": {},
   "outputs": [],
   "source": [
    "top_customers = df.groupby('Customer Name')['Total'].sum().sort_values(ascending=False).head(10)\n",
    "sns.barplot(x=top_customers.values, y=top_customers.index)\n",
    "plt.title('Top 10 Customers by Sales')\n",
    "plt.xlabel('Sales in ₹')\n",
    "plt.tight_layout()\n",
    "plt.show()"
   ]
  }
 ],
 "metadata": {
  "kernelspec": {
   "display_name": "Python 3",
   "language": "python",
   "name": "python3"
  },
  "language_info": {
   "name": "python",
   "version": "3.x"
  }
 },
 "nbformat": 4,
 "nbformat_minor": 5
}
